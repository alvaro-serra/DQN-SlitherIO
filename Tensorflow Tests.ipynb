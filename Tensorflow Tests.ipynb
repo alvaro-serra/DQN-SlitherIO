{
 "cells": [
  {
   "cell_type": "code",
   "execution_count": 2,
   "metadata": {},
   "outputs": [],
   "source": [
    "import tensorflow as tf"
   ]
  },
  {
   "cell_type": "code",
   "execution_count": 3,
   "metadata": {},
   "outputs": [
    {
     "name": "stdout",
     "output_type": "stream",
     "text": [
      "W2 [[[[0.04644461]\n",
      "   [0.03409879]]\n",
      "\n",
      "  [[0.03900358]\n",
      "   [0.02551108]]]] \n",
      "\n",
      "W1 [[[[0.1857396 ]\n",
      "   [0.03006333]]\n",
      "\n",
      "  [[0.00361864]\n",
      "   [0.16596006]]]] \n",
      "\n",
      "W2 [[[[0.1857396 ]\n",
      "   [0.03006333]]\n",
      "\n",
      "  [[0.00361864]\n",
      "   [0.16596006]]]] \n",
      "\n",
      "w2conc [[0.1 0.1]] \n",
      "\n",
      "w [[0.1857396  0.03006333 0.00361864 0.16596006]] \n",
      "\n",
      "wc [[0.1857396  0.03006333 0.00361864 0.16596006 0.1        0.1       ]] \n",
      "\n",
      "END\n"
     ]
    }
   ],
   "source": [
    "test = tf.Graph()\n",
    "with test.as_default():\n",
    "    W1 = tf.Variable(tf.truncated_normal([1,2,2,1],stddev = 0.1))\n",
    "    W2 = tf.Variable(tf.truncated_normal([1,2,2,1],stddev = 0.1))\n",
    "    w2conc = tf.Variable(tf.constant(0.1,shape = [1,2]))\n",
    "    w = tf.reshape(W2, [-1, 4])\n",
    "    wc = tf.concat([w,w2conc],1)\n",
    "    \n",
    "    \n",
    "with tf.Session(graph = test) as sess:\n",
    "    tf.global_variables_initializer().run()\n",
    "    print('W2',sess.run(W2),'\\n')\n",
    "    print('W1',sess.run(W1),'\\n')\n",
    "    sess.run(tf.assign(W2,W1))\n",
    "    print('W2',sess.run(W2),'\\n')\n",
    "    print('w2conc',sess.run(w2conc),'\\n')\n",
    "    print('w',sess.run(w),'\\n')\n",
    "    print('wc',sess.run(wc),'\\n')\n",
    "    print('END')\n"
   ]
  },
  {
   "cell_type": "code",
   "execution_count": null,
   "metadata": {},
   "outputs": [],
   "source": []
  },
  {
   "cell_type": "code",
   "execution_count": null,
   "metadata": {},
   "outputs": [],
   "source": []
  }
 ],
 "metadata": {
  "kernelspec": {
   "display_name": "Python 3",
   "language": "python",
   "name": "python3"
  },
  "language_info": {
   "codemirror_mode": {
    "name": "ipython",
    "version": 3
   },
   "file_extension": ".py",
   "mimetype": "text/x-python",
   "name": "python",
   "nbconvert_exporter": "python",
   "pygments_lexer": "ipython3",
   "version": "3.5.2"
  }
 },
 "nbformat": 4,
 "nbformat_minor": 2
}
