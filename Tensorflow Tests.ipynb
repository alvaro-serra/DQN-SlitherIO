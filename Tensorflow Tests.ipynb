{
 "cells": [
  {
   "cell_type": "code",
   "execution_count": 1,
   "metadata": {},
   "outputs": [],
   "source": [
    "import tensorflow as tf"
   ]
  },
  {
   "cell_type": "code",
   "execution_count": 18,
   "metadata": {},
   "outputs": [
    {
     "name": "stdout",
     "output_type": "stream",
     "text": [
      "W2 [[[[ 0.11614089]\n",
      "   [ 0.00396085]]\n",
      "\n",
      "  [[-0.06124334]\n",
      "   [ 0.02798627]]]] \n",
      "\n",
      "W1 [[[[-0.01589333]\n",
      "   [-0.10400333]]\n",
      "\n",
      "  [[ 0.06795625]\n",
      "   [ 0.1650819 ]]]] \n",
      "\n",
      "W2 [[[[-0.01589333]\n",
      "   [-0.10400333]]\n",
      "\n",
      "  [[ 0.06795625]\n",
      "   [ 0.1650819 ]]]]\n",
      "END\n"
     ]
    }
   ],
   "source": [
    "test = tf.Graph()\n",
    "with test.as_default():\n",
    "    W1 = tf.Variable(tf.truncated_normal([1,2,2,1],stddev = 0.1))\n",
    "    W2 = tf.Variable(tf.truncated_normal([1,2,2,1],stddev = 0.1))\n",
    "    \n",
    "with tf.Session(graph = test) as sess:\n",
    "    tf.global_variables_initializer().run()\n",
    "    print('W2',sess.run(W2),'\\n')\n",
    "    print('W1',sess.run(W1),'\\n')\n",
    "    sess.run(tf.assign(W2,W1))\n",
    "    print('W2',sess.run(W2))\n",
    "    print('END')\n"
   ]
  },
  {
   "cell_type": "code",
   "execution_count": null,
   "metadata": {},
   "outputs": [],
   "source": []
  },
  {
   "cell_type": "code",
   "execution_count": null,
   "metadata": {},
   "outputs": [],
   "source": []
  }
 ],
 "metadata": {
  "kernelspec": {
   "display_name": "Python 3",
   "language": "python",
   "name": "python3"
  },
  "language_info": {
   "codemirror_mode": {
    "name": "ipython",
    "version": 3
   },
   "file_extension": ".py",
   "mimetype": "text/x-python",
   "name": "python",
   "nbconvert_exporter": "python",
   "pygments_lexer": "ipython3",
   "version": "3.5.2"
  }
 },
 "nbformat": 4,
 "nbformat_minor": 2
}
