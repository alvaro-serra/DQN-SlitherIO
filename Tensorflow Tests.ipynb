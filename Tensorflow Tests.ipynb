{
 "cells": [
  {
   "cell_type": "code",
   "execution_count": 10,
   "metadata": {},
   "outputs": [],
   "source": [
    "import tensorflow as tf"
   ]
  },
  {
   "cell_type": "code",
   "execution_count": 11,
   "metadata": {
    "scrolled": true
   },
   "outputs": [
    {
     "name": "stdout",
     "output_type": "stream",
     "text": [
      "W2 [[[[ 0.042994  ]\n",
      "   [-0.18141697]]\n",
      "\n",
      "  [[-0.04440535]\n",
      "   [-0.00795977]]]] \n",
      "\n",
      "W1 [[[[ 0.08724501]\n",
      "   [-0.09009444]]\n",
      "\n",
      "  [[ 0.19615595]\n",
      "   [-0.04559673]]]] \n",
      "\n",
      "W2 [[[[ 0.08724501]\n",
      "   [-0.09009444]]\n",
      "\n",
      "  [[ 0.19615595]\n",
      "   [-0.04559673]]]] \n",
      "\n",
      "w2conc [[0.1 0.1]] \n",
      "\n",
      "w [[ 0.08724501 -0.09009444  0.19615595 -0.04559673]] \n",
      "\n",
      "wc [[ 0.08724501 -0.09009444  0.19615595 -0.04559673  0.1         0.1       ]] \n",
      "\n",
      "Model saved in path: test/test/model.ckpt\n",
      "END\n"
     ]
    }
   ],
   "source": [
    "test = tf.Graph()\n",
    "with test.as_default():\n",
    "    W1 = tf.Variable(tf.truncated_normal([1,2,2,1],stddev = 0.1))\n",
    "    W2 = tf.Variable(tf.truncated_normal([1,2,2,1],stddev = 0.1))\n",
    "    w2conc = tf.Variable(tf.constant(0.1,shape = [1,2]))\n",
    "    w = tf.reshape(W2, [-1, 4])\n",
    "    wc = tf.concat([w,w2conc],1)\n",
    "    saver = tf.train.Saver()\n",
    "\n",
    "    \n",
    "with tf.Session(graph = test) as sess:\n",
    "    tf.global_variables_initializer().run()\n",
    "    print('W2',sess.run(W2),'\\n')\n",
    "    print('W1',sess.run(W1),'\\n')\n",
    "    sess.run(tf.assign(W2,W1))\n",
    "    print('W2',sess.run(W2),'\\n')\n",
    "    print('w2conc',sess.run(w2conc),'\\n')\n",
    "    print('w',sess.run(w),'\\n')\n",
    "    print('wc',sess.run(wc),'\\n')\n",
    "    save_path = saver.save(sess, \"test/test/model.ckpt\")\n",
    "    print(\"Model saved in path: %s\" % save_path)\n",
    "    #saver.restore(sess, \"test/model.ckpt\")\n",
    "    #print('W2',sess.run(W2),'\\n')\n",
    "    #print('w2conc',sess.run(w2conc),'\\n')\n",
    "    #print('w',sess.run(w),'\\n')\n",
    "    #print('wc',sess.run(wc),'\\n')\n",
    "    print('END')\n"
   ]
  },
  {
   "cell_type": "code",
   "execution_count": 8,
   "metadata": {},
   "outputs": [
    {
     "name": "stdout",
     "output_type": "stream",
     "text": [
      "W2 [[[[-0.05310813]\n",
      "   [-0.12430252]]\n",
      "\n",
      "  [[-0.04700995]\n",
      "   [ 0.00236   ]]]] \n",
      "\n",
      "W1 [[[[-0.02657912]\n",
      "   [-0.13984941]]\n",
      "\n",
      "  [[-0.11922759]\n",
      "   [-0.06336404]]]] \n",
      "\n",
      "W2 [[[[-0.02657912]\n",
      "   [-0.13984941]]\n",
      "\n",
      "  [[-0.11922759]\n",
      "   [-0.06336404]]]] \n",
      "\n",
      "w2conc [[0.1 0.1]] \n",
      "\n",
      "w [[-0.02657912 -0.13984941 -0.11922759 -0.06336404]] \n",
      "\n",
      "wc [[-0.02657912 -0.13984941 -0.11922759 -0.06336404  0.1         0.1       ]] \n",
      "\n",
      "INFO:tensorflow:Restoring parameters from test/model.ckpt\n",
      "W2 [[[[-0.05553719]\n",
      "   [-0.07537273]]\n",
      "\n",
      "  [[-0.03040972]\n",
      "   [ 0.06326277]]]] \n",
      "\n",
      "w2conc [[0.1 0.1]] \n",
      "\n",
      "w [[-0.05553719 -0.07537273 -0.03040972  0.06326277]] \n",
      "\n",
      "wc [[-0.05553719 -0.07537273 -0.03040972  0.06326277  0.1         0.1       ]] \n",
      "\n",
      "END\n"
     ]
    }
   ],
   "source": [
    "with tf.Session(graph = test) as sess:\n",
    "    tf.global_variables_initializer().run()\n",
    "    print('W2',sess.run(W2),'\\n')\n",
    "    print('W1',sess.run(W1),'\\n')\n",
    "    sess.run(tf.assign(W2,W1))\n",
    "    print('W2',sess.run(W2),'\\n')\n",
    "    print('w2conc',sess.run(w2conc),'\\n')\n",
    "    print('w',sess.run(w),'\\n')\n",
    "    print('wc',sess.run(wc),'\\n')\n",
    "    #save_path = saver.save(sess, \"test/model.ckpt\")\n",
    "    #print(\"Model saved in path: %s\" % save_path)\n",
    "    saver.restore(sess, \"test/model.ckpt\")\n",
    "    print('W2',sess.run(W2),'\\n')\n",
    "    print('w2conc',sess.run(w2conc),'\\n')\n",
    "    print('w',sess.run(w),'\\n')\n",
    "    print('wc',sess.run(wc),'\\n')\n",
    "    print('END')\n"
   ]
  },
  {
   "cell_type": "code",
   "execution_count": null,
   "metadata": {},
   "outputs": [],
   "source": []
  }
 ],
 "metadata": {
  "kernelspec": {
   "display_name": "Python 3",
   "language": "python",
   "name": "python3"
  },
  "language_info": {
   "codemirror_mode": {
    "name": "ipython",
    "version": 3
   },
   "file_extension": ".py",
   "mimetype": "text/x-python",
   "name": "python",
   "nbconvert_exporter": "python",
   "pygments_lexer": "ipython3",
   "version": "3.5.2"
  }
 },
 "nbformat": 4,
 "nbformat_minor": 2
}
